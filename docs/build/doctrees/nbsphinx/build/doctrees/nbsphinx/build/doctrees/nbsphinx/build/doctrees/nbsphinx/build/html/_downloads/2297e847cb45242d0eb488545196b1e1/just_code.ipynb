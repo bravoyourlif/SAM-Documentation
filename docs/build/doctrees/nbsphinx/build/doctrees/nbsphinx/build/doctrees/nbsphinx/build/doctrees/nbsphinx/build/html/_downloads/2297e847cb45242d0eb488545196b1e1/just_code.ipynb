{
 "cells": [
  {
   "cell_type": "code",
   "execution_count": 1,
   "metadata": {
    "collapsed": false,
    "execution": {
     "iopub.execute_input": "2022-04-14T18:00:18.468962Z",
     "iopub.status.busy": "2022-04-14T18:00:18.466887Z",
     "iopub.status.idle": "2022-04-14T18:00:18.474562Z",
     "shell.execute_reply": "2022-04-14T18:00:18.474562Z"
    }
   },
   "outputs": [],
   "source": [
    "%matplotlib inline"
   ]
  },
  {
   "cell_type": "markdown",
   "metadata": {},
   "source": [
    "\n",
    "# A short Python script\n",
    "\n",
    "This demonstrates an example ``.py`` file that is not executed when gallery is\n",
    "generated (see `build_pattern`) but nevertheless gets included as an\n",
    "example. Note that no output is capture as this file is not executed.\n"
   ]
  },
  {
   "cell_type": "code",
   "execution_count": 2,
   "metadata": {
    "collapsed": false,
    "execution": {
     "iopub.execute_input": "2022-04-14T18:00:18.478725Z",
     "iopub.status.busy": "2022-04-14T18:00:18.477711Z",
     "iopub.status.idle": "2022-04-14T18:00:18.495414Z",
     "shell.execute_reply": "2022-04-14T18:00:18.496400Z"
    }
   },
   "outputs": [
    {
     "name": "stdout",
     "output_type": "stream",
     "text": [
      "[0, 1, 2, 3, 4, 5, 6, 7, 8, 9]\n"
     ]
    }
   ],
   "source": [
    "# Code source: Óscar Nájera\n",
    "# License: BSD 3 clause\n",
    "from __future__ import print_function\n",
    "print([i for i in range(10)])"
   ]
  }
 ],
 "metadata": {
  "kernelspec": {
   "display_name": "Python 3",
   "language": "python",
   "name": "python3"
  },
  "language_info": {
   "codemirror_mode": {
    "name": "ipython",
    "version": 3
   },
   "file_extension": ".py",
   "mimetype": "text/x-python",
   "name": "python",
   "nbconvert_exporter": "python",
   "pygments_lexer": "ipython3",
   "version": "3.9.7"
  }
 },
 "nbformat": 4,
 "nbformat_minor": 0
}
